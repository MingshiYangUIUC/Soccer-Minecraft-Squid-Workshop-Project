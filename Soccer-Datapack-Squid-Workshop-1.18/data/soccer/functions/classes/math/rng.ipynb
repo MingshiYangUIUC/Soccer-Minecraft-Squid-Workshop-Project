{
 "cells": [
  {
   "cell_type": "code",
   "execution_count": 144,
   "metadata": {},
   "outputs": [
    {
     "data": {
      "text/plain": [
       "{'divide': 'ignore', 'over': 'ignore', 'under': 'ignore', 'invalid': 'ignore'}"
      ]
     },
     "execution_count": 144,
     "metadata": {},
     "output_type": "execute_result"
    }
   ],
   "source": [
    "import numpy as np\n",
    "from matplotlib import pyplot as plt\n",
    "from scipy import stats\n",
    "\n",
    "from statsmodels.sandbox.stats.runs import runstest_1samp \n",
    "np.seterr(all='ignore')"
   ]
  },
  {
   "cell_type": "code",
   "execution_count": 370,
   "metadata": {},
   "outputs": [],
   "source": [
    "def rng(r): # try to overflow for several times\n",
    "    r *= 314159\n",
    "    r *= 314159\n",
    "    r *= 2718281\n",
    "    r *= 2718281\n",
    "    return r*r"
   ]
  },
  {
   "cell_type": "code",
   "execution_count": 371,
   "metadata": {},
   "outputs": [
    {
     "name": "stdout",
     "output_type": "stream",
     "text": [
      "385625 -456429359\n"
     ]
    },
    {
     "data": {
      "image/png": "[encoded data removed]",
      "text/plain": [
       "<Figure size 360x144 with 1 Axes>"
      ]
     },
     "metadata": {
      "needs_background": "light"
     },
     "output_type": "display_data"
    },
    {
     "name": "stdout",
     "output_type": "stream",
     "text": [
      "p1 0.22244021263835212\n",
      "p2 0.6697987274199342\n"
     ]
    }
   ],
   "source": [
    "n = 10000 # n numbers\n",
    "rr = 100000000 # range\n",
    "m = np.int32(np.random.randint(-2147483648,2147483648-n)) # random starting point of input, say get this from time query gametime\n",
    "m = 385625\n",
    "RNG = np.empty(n,dtype=np.int32)\n",
    "for i in np.arange(m,n+m): # input increases by 1\n",
    "    RNG[i-m] = rng(np.int32(i))\n",
    "print(m,RNG[0])\n",
    "RNG %= rr\n",
    "plt.figure(figsize=(5,2))\n",
    "plt.hist(RNG,bins=100)\n",
    "plt.xlim([0,rr])\n",
    "plt.show()\n",
    "print('p1',runstest_1samp(RNG, correction=False)[1]) # test if output distribution is likely random\n",
    "print('p2',stats.kstest(RNG, stats.uniform(loc=0,scale=rr).cdf)[1]) # test if output distribution is likely uniform"
   ]
  },
  {
   "cell_type": "code",
   "execution_count": null,
   "metadata": {},
   "outputs": [],
   "source": []
  }
 ],
 "metadata": {
  "kernelspec": {
   "display_name": "Python 3.7.1 ('base')",
   "language": "python",
   "name": "python3"
  },
  "language_info": {
   "codemirror_mode": {
    "name": "ipython",
    "version": 3
   },
   "file_extension": ".py",
   "mimetype": "text/x-python",
   "name": "python",
   "nbconvert_exporter": "python",
   "pygments_lexer": "ipython3",
   "version": "3.7.1"
  },
  "orig_nbformat": 4,
  "vscode": {
   "interpreter": {
    "hash": "c65adc69a898613702919dbb53431af3bffa275afa35bce1953dbd86cc20c84d"
   }
  }
 },
 "nbformat": 4,
 "nbformat_minor": 2
}
