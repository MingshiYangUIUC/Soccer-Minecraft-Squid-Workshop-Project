{
 "cells": [
  {
   "cell_type": "code",
   "execution_count": 2,
   "metadata": {},
   "outputs": [
    {
     "data": {
      "text/plain": [
       "{'divide': 'warn', 'over': 'warn', 'under': 'ignore', 'invalid': 'warn'}"
      ]
     },
     "execution_count": 2,
     "metadata": {},
     "output_type": "execute_result"
    }
   ],
   "source": [
    "import numpy as np\n",
    "from matplotlib import pyplot as plt\n",
    "from scipy import stats\n",
    "\n",
    "from statsmodels.sandbox.stats.runs import runstest_1samp \n",
    "np.seterr(all='ignore')"
   ]
  },
  {
   "cell_type": "code",
   "execution_count": 137,
   "metadata": {},
   "outputs": [],
   "source": [
    "\n",
    "def rng(r,N): # try to overflow for several times\n",
    "    r *= N\n",
    "    r *= 314159\n",
    "    r *= 2718281\n",
    "    r = r*r\n",
    "    r = r // 100\n",
    "    r *= 314159\n",
    "    r *= 2718281\n",
    "    return r\n",
    "N = 1119"
   ]
  },
  {
   "cell_type": "code",
   "execution_count": 192,
   "metadata": {},
   "outputs": [
    {
     "data": {
      "image/png": "[encoded data removed]",
      "text/plain": [
       "<Figure size 360x144 with 1 Axes>"
      ]
     },
     "metadata": {
      "needs_background": "light"
     },
     "output_type": "display_data"
    },
    {
     "name": "stdout",
     "output_type": "stream",
     "text": [
      "p1 0.8643745151449341\n",
      "p2 0.0\n"
     ]
    }
   ],
   "source": [
    "n = 10000 # n numbers\n",
    "rr = 100000000 # range\n",
    "m = np.int32(np.random.randint(-2147483648,2147483648-n)) # random starting point of input, say get this from time query gametime\n",
    "#m,N = 0,1\n",
    "RNG = np.empty(n,dtype=np.int32)\n",
    "for i in np.arange(m,n+m): # input increases by 1\n",
    "    out = rng(np.int32(i),N)\n",
    "    RNG[i-m] = out\n",
    "    N += 1\n",
    "#RNG = (RNG)%rr\n",
    "plt.figure(figsize=(5,2))\n",
    "plt.hist(RNG,bins=128)\n",
    "#plt.xlim([0,rr])\n",
    "plt.ylabel('Count')\n",
    "plt.xlabel('Range')\n",
    "plt.show()\n",
    "print('p1',runstest_1samp(RNG, correction=False)[1]) # test if output distribution is likely random\n",
    "print('p2',stats.kstest(RNG, stats.uniform(loc=0,scale=rr).cdf)[1]) # test if output distribution is likely uniform"
   ]
  },
  {
   "cell_type": "code",
   "execution_count": null,
   "metadata": {},
   "outputs": [],
   "source": []
  }
 ],
 "metadata": {
  "kernelspec": {
   "display_name": "Python 3.7.1 ('base')",
   "language": "python",
   "name": "python3"
  },
  "language_info": {
   "codemirror_mode": {
    "name": "ipython",
    "version": 3
   },
   "file_extension": ".py",
   "mimetype": "text/x-python",
   "name": "python",
   "nbconvert_exporter": "python",
   "pygments_lexer": "ipython3",
   "version": "3.7.1"
  },
  "orig_nbformat": 4,
  "vscode": {
   "interpreter": {
    "hash": "c65adc69a898613702919dbb53431af3bffa275afa35bce1953dbd86cc20c84d"
   }
  }
 },
 "nbformat": 4,
 "nbformat_minor": 2
}
